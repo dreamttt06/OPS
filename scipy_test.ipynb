{
 "cells": [
  {
   "cell_type": "code",
   "execution_count": 1,
   "id": "0dabf191-8c30-4034-9f0e-3229665d876c",
   "metadata": {},
   "outputs": [
    {
     "name": "stdout",
     "output_type": "stream",
     "text": [
      "[0.30353734 2.1157072 ]\n"
     ]
    }
   ],
   "source": [
    "#### This sample code was auto-generated using Bing's ChatGPT AI (GPT-4).\n",
    "\n",
    "import numpy as np\n",
    "from scipy import optimize\n",
    "\n",
    "# Define the function that we want to fit\n",
    "def test_func(x, a, b):\n",
    "    return a * np.sin(b * x)\n",
    "\n",
    "# Generate some data with noise to fit\n",
    "x_data = np.linspace(0, 4 * np.pi, 100)\n",
    "y_data = 3.0 * np.sin(1.5 * x_data) + 0.5 * np.random.normal(size=100)\n",
    "\n",
    "# Fit the data with the function\n",
    "params, params_covariance = optimize.curve_fit(test_func, x_data, y_data, p0=[2, 2])\n",
    "\n",
    "# Print the results\n",
    "print(params)"
   ]
  },
  {
   "cell_type": "code",
   "execution_count": null,
   "id": "8d3068a6-fee5-47cd-8ed1-270630944c60",
   "metadata": {},
   "outputs": [],
   "source": []
  }
 ],
 "metadata": {
  "kernelspec": {
   "display_name": "Python 3 (ipykernel)",
   "language": "python",
   "name": "python3"
  },
  "language_info": {
   "codemirror_mode": {
    "name": "ipython",
    "version": 3
   },
   "file_extension": ".py",
   "mimetype": "text/x-python",
   "name": "python",
   "nbconvert_exporter": "python",
   "pygments_lexer": "ipython3",
   "version": "3.11.6"
  }
 },
 "nbformat": 4,
 "nbformat_minor": 5
}
